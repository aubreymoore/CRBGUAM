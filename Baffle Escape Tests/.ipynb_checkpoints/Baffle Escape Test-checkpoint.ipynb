{
 "metadata": {
  "name": "",
  "signature": "sha256:a973efc02a17e2e4191f0e7eda09204ba7b82607cdb9333a3e863407bd8b6683"
 },
 "nbformat": 3,
 "nbformat_minor": 0,
 "worksheets": [
  {
   "cells": [
    {
     "cell_type": "markdown",
     "metadata": {},
     "source": [
      "<center>\n",
      "<h1>Test of Baffles to Prevent Escape from Pan Traps</h1>\n",
      "<h2>Prepared by Aubrey Moore</h2>\n",
      "<h2>June 5, 2014</h2>\n",
      "<h2>Updated June 5, 2014</h2>\n",
      "</center>\n",
      "<h2>Summary</h2>\n",
      "<h2>Background</h2>\n",
      "<h2>Methods</h2>\n",
      "<h2>Analysis</h2>"
     ]
    },
    {
     "cell_type": "code",
     "collapsed": false,
     "input": [
      "%pylab inline\n",
      "import pandas"
     ],
     "language": "python",
     "metadata": {},
     "outputs": [
      {
       "output_type": "stream",
       "stream": "stdout",
       "text": [
        "Populating the interactive namespace from numpy and matplotlib\n"
       ]
      }
     ],
     "prompt_number": 6
    },
    {
     "cell_type": "code",
     "collapsed": false,
     "input": [
      "pandas.DataFrame.from_csv('baffles.csv')"
     ],
     "language": "python",
     "metadata": {},
     "outputs": [
      {
       "html": [
        "<div style=\"max-height:1000px;max-width:1500px;overflow:auto;\">\n",
        "<table border=\"1\" class=\"dataframe\">\n",
        "  <thead>\n",
        "    <tr style=\"text-align: right;\">\n",
        "      <th></th>\n",
        "      <th>UVLED</th>\n",
        "      <th>Oryctalure</th>\n",
        "      <th>InitialCRB</th>\n",
        "      <th>FinalCRB_NoBaffle</th>\n",
        "      <th>FinalCRB_Vanes</th>\n",
        "      <th>FinalCRB_Funnel</th>\n",
        "    </tr>\n",
        "    <tr>\n",
        "      <th>Date</th>\n",
        "      <th></th>\n",
        "      <th></th>\n",
        "      <th></th>\n",
        "      <th></th>\n",
        "      <th></th>\n",
        "      <th></th>\n",
        "    </tr>\n",
        "  </thead>\n",
        "  <tbody>\n",
        "    <tr>\n",
        "      <th>2014-06-04</th>\n",
        "      <td> y</td>\n",
        "      <td> y</td>\n",
        "      <td> 24</td>\n",
        "      <td> 24</td>\n",
        "      <td> 22</td>\n",
        "      <td> 24</td>\n",
        "    </tr>\n",
        "    <tr>\n",
        "      <th>2014-06-05</th>\n",
        "      <td> n</td>\n",
        "      <td> n</td>\n",
        "      <td> 28</td>\n",
        "      <td> 22</td>\n",
        "      <td> 26</td>\n",
        "      <td> 28</td>\n",
        "    </tr>\n",
        "  </tbody>\n",
        "</table>\n",
        "<p>2 rows \u00d7 6 columns</p>\n",
        "</div>"
       ],
       "metadata": {},
       "output_type": "pyout",
       "prompt_number": 13,
       "text": [
        "           UVLED Oryctalure  InitialCRB  FinalCRB_NoBaffle  FinalCRB_Vanes  \\\n",
        "Date                                                                         \n",
        "2014-06-04     y          y          24                 24              22   \n",
        "2014-06-05     n          n          28                 22              26   \n",
        "\n",
        "            FinalCRB_Funnel  \n",
        "Date                         \n",
        "2014-06-04               24  \n",
        "2014-06-05               28  \n",
        "\n",
        "[2 rows x 6 columns]"
       ]
      }
     ],
     "prompt_number": 13
    },
    {
     "cell_type": "code",
     "collapsed": false,
     "input": [],
     "language": "python",
     "metadata": {},
     "outputs": []
    }
   ],
   "metadata": {}
  }
 ]
}