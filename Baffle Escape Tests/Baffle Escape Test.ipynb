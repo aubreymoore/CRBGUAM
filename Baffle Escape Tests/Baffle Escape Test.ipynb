{
 "metadata": {
  "name": "",
  "signature": "sha256:b4f53d6b601f040382aa03e07e18c0014f087e8cb565b92a956c76522ef5c0ef"
 },
 "nbformat": 3,
 "nbformat_minor": 0,
 "worksheets": [
  {
   "cells": [
    {
     "cell_type": "markdown",
     "metadata": {},
     "source": [
      "<center>\n",
      "<h1>Test of Baffles to Prevent Escape from Pan Traps</h1>\n",
      "<h2>Prepared by Aubrey Moore</h2>\n",
      "<h2>June 5, 2014</h2>\n",
      "<h2>Updated June 5, 2014</h2>\n",
      "</center>\n",
      "<table>\n",
      "<tr>\n",
      "<td><figure><img src=\"noBaffle.png\" width=250/><figcaption>No baffle.</figcaption></figure></td>\n",
      "<td><figure><img src=\"vanes.png\" width=250/><figcaption>Vanes.</figcaption></figure></td>\n",
      "<td><figure><img src=\"funnel.png\" width=250/><figcaption>Funnel.</figcaption></figure></td>\n",
      "</tr>\n",
      "</table>\n",
      "<h2>Summary</h2>\n",
      "<h2>Background</h2>\n",
      "<h2>Methods</h2>\n",
      "<h2>Analysis</h2>"
     ]
    },
    {
     "cell_type": "code",
     "collapsed": false,
     "input": [
      "%pylab inline\n",
      "import pandas"
     ],
     "language": "python",
     "metadata": {},
     "outputs": [
      {
       "output_type": "stream",
       "stream": "stdout",
       "text": [
        "Populating the interactive namespace from numpy and matplotlib\n"
       ]
      }
     ],
     "prompt_number": 1
    },
    {
     "cell_type": "code",
     "collapsed": false,
     "input": [
      "pandas.DataFrame.from_csv('baffles.csv')"
     ],
     "language": "python",
     "metadata": {},
     "outputs": [
      {
       "html": [
        "<div style=\"max-height:1000px;max-width:1500px;overflow:auto;\">\n",
        "<table border=\"1\" class=\"dataframe\">\n",
        "  <thead>\n",
        "    <tr style=\"text-align: right;\">\n",
        "      <th></th>\n",
        "      <th>UVLED</th>\n",
        "      <th>Oryctalure</th>\n",
        "      <th>InitialCRB</th>\n",
        "      <th>FinalCRB_NoBaffle</th>\n",
        "      <th>FinalCRB_Vanes</th>\n",
        "      <th>FinalCRB_Funnel</th>\n",
        "    </tr>\n",
        "    <tr>\n",
        "      <th>Date</th>\n",
        "      <th></th>\n",
        "      <th></th>\n",
        "      <th></th>\n",
        "      <th></th>\n",
        "      <th></th>\n",
        "      <th></th>\n",
        "    </tr>\n",
        "  </thead>\n",
        "  <tbody>\n",
        "    <tr>\n",
        "      <th>2014-06-04</th>\n",
        "      <td>   y</td>\n",
        "      <td>   y</td>\n",
        "      <td> 24</td>\n",
        "      <td> 24</td>\n",
        "      <td> 22</td>\n",
        "      <td> 24</td>\n",
        "    </tr>\n",
        "    <tr>\n",
        "      <th>2014-06-05</th>\n",
        "      <td>   n</td>\n",
        "      <td>   n</td>\n",
        "      <td> 28</td>\n",
        "      <td> 22</td>\n",
        "      <td> 26</td>\n",
        "      <td> 28</td>\n",
        "    </tr>\n",
        "    <tr>\n",
        "      <th>2014-06-06</th>\n",
        "      <td>   y</td>\n",
        "      <td>   n</td>\n",
        "      <td> 23</td>\n",
        "      <td> 23</td>\n",
        "      <td> 23</td>\n",
        "      <td> 23</td>\n",
        "    </tr>\n",
        "    <tr>\n",
        "      <th>2014-06-07</th>\n",
        "      <td>   n</td>\n",
        "      <td>   y</td>\n",
        "      <td> 26</td>\n",
        "      <td> 24</td>\n",
        "      <td> 26</td>\n",
        "      <td> 26</td>\n",
        "    </tr>\n",
        "    <tr>\n",
        "      <th>NaT</th>\n",
        "      <td> NaN</td>\n",
        "      <td> NaN</td>\n",
        "      <td>NaN</td>\n",
        "      <td>NaN</td>\n",
        "      <td>NaN</td>\n",
        "      <td>NaN</td>\n",
        "    </tr>\n",
        "  </tbody>\n",
        "</table>\n",
        "<p>5 rows \u00d7 6 columns</p>\n",
        "</div>"
       ],
       "metadata": {},
       "output_type": "pyout",
       "prompt_number": 2,
       "text": [
        "           UVLED Oryctalure  InitialCRB  FinalCRB_NoBaffle  FinalCRB_Vanes  \\\n",
        "Date                                                                         \n",
        "2014-06-04     y          y          24                 24              22   \n",
        "2014-06-05     n          n          28                 22              26   \n",
        "2014-06-06     y          n          23                 23              23   \n",
        "2014-06-07     n          y          26                 24              26   \n",
        "NaT          NaN        NaN         NaN                NaN             NaN   \n",
        "\n",
        "            FinalCRB_Funnel  \n",
        "Date                         \n",
        "2014-06-04               24  \n",
        "2014-06-05               28  \n",
        "2014-06-06               23  \n",
        "2014-06-07               26  \n",
        "NaT                     NaN  \n",
        "\n",
        "[5 rows x 6 columns]"
       ]
      }
     ],
     "prompt_number": 2
    },
    {
     "cell_type": "code",
     "collapsed": false,
     "input": [],
     "language": "python",
     "metadata": {},
     "outputs": []
    }
   ],
   "metadata": {}
  }
 ]
}